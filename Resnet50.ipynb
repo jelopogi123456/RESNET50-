{
 "cells": [
  {
   "cell_type": "code",
   "execution_count": 2,
   "id": "f7526adf",
   "metadata": {},
   "outputs": [],
   "source": [
    "from tensorflow.compat.v1 import ConfigProto\n",
    "from tensorflow.compat.v1 import InteractiveSession\n",
    "\n",
    "config = ConfigProto()\n",
    "config.gpu_options.per_process_gpu_memory_fraction = 0.5\n",
    "config.gpu_options.allow_growth = True\n",
    "session = InteractiveSession(config=config)\n"
   ]
  },
  {
   "cell_type": "code",
   "execution_count": 3,
   "id": "c691074a",
   "metadata": {},
   "outputs": [],
   "source": [
    "# import the libraries as shown below\n",
    "import tensorflow as tf\n",
    "from tensorflow.keras import models, layers\n",
    "from tensorflow.keras.layers import Input, Lambda, Dense, Flatten\n",
    "from tensorflow.keras.models import Model\n",
    "from tensorflow.keras.applications.resnet50 import ResNet50\n",
    "#from keras.applications.vgg16 import VGG16\n",
    "from tensorflow.keras.applications.resnet50 import preprocess_input\n",
    "from tensorflow.keras.preprocessing import image\n",
    "from tensorflow.keras.preprocessing.image import ImageDataGenerator,load_img\n",
    "from tensorflow.keras.models import Sequential\n",
    "import numpy as np\n",
    "from glob import glob"
   ]
  },
  {
   "cell_type": "code",
   "execution_count": 4,
   "id": "579868f6",
   "metadata": {},
   "outputs": [
    {
     "name": "stdout",
     "output_type": "stream",
     "text": [
      "Found 37898 files belonging to 3 classes.\n"
     ]
    }
   ],
   "source": [
    "#Set all the Constants\n",
    "BATCH_SIZE = 32\n",
    "IMAGE_SIZE = [224, 224]\n",
    "CHANNELS=3\n",
    "EPOCHS=50\n",
    "\n",
    "dataset = tf.keras.preprocessing.image_dataset_from_directory(\n",
    "    \"training\",\n",
    "    seed=123,\n",
    "    shuffle=True,\n",
    "    image_size=IMAGE_SIZE,\n",
    "    batch_size=BATCH_SIZE\n",
    ")"
   ]
  },
  {
   "cell_type": "code",
   "execution_count": 5,
   "id": "85b502e3",
   "metadata": {},
   "outputs": [
    {
     "data": {
      "text/plain": [
       "['Healthy', 'Miner Disease', 'Rust Disease']"
      ]
     },
     "execution_count": 5,
     "metadata": {},
     "output_type": "execute_result"
    }
   ],
   "source": [
    "class_names = dataset.class_names\n",
    "class_names\n",
    "\n"
   ]
  },
  {
   "cell_type": "code",
   "execution_count": 6,
   "id": "0a065cc0",
   "metadata": {},
   "outputs": [
    {
     "data": {
      "text/plain": [
       "<TakeDataset element_spec=(TensorSpec(shape=(None, 224, 224, 3), dtype=tf.float32, name=None), TensorSpec(shape=(None,), dtype=tf.int32, name=None))>"
      ]
     },
     "execution_count": 6,
     "metadata": {},
     "output_type": "execute_result"
    }
   ],
   "source": [
    "dataset.take(1)"
   ]
  },
  {
   "cell_type": "code",
   "execution_count": 7,
   "id": "02f9cd97",
   "metadata": {},
   "outputs": [
    {
     "name": "stdout",
     "output_type": "stream",
     "text": [
      "[15192 15174  7532]\n"
     ]
    }
   ],
   "source": [
    "# CHECK DATASET DISTRIBUTION\n",
    "\n",
    "y = np.concatenate([y for x, y in dataset], axis=0)\n",
    "print(np.bincount(y))"
   ]
  },
  {
   "cell_type": "code",
   "execution_count": 8,
   "id": "2bd104ec",
   "metadata": {},
   "outputs": [],
   "source": [
    "# SPLIT THE DATASET WITH THE FOLLOWING RATIO 7:2:1\n",
    "\n",
    "def get_partition(ds,train_split = 0.7, validate = 0.2, shuffle = True, shuffle_size = 10000):\n",
    "    ds_size = len(ds)\n",
    "    if shuffle:\n",
    "        ds = ds.shuffle(shuffle_size, seed = 10)\n",
    "    train_size = int(train_split*ds_size)\n",
    "    val_size = int(validate*ds_size)\n",
    "    train = ds.take(train_size)\n",
    "    val = ds.skip(train_size).take(val_size)\n",
    "    test = ds.skip(train_size).skip(val_size)\n",
    "    return train,val,test  "
   ]
  },
  {
   "cell_type": "code",
   "execution_count": 9,
   "id": "c9d8b7bf",
   "metadata": {},
   "outputs": [],
   "source": [
    "train,val,test = get_partition(dataset)"
   ]
  },
  {
   "cell_type": "code",
   "execution_count": 10,
   "id": "23dd1fce",
   "metadata": {},
   "outputs": [
    {
     "data": {
      "text/plain": [
       "829"
      ]
     },
     "execution_count": 10,
     "metadata": {},
     "output_type": "execute_result"
    }
   ],
   "source": [
    "len(train)\n"
   ]
  },
  {
   "cell_type": "code",
   "execution_count": 11,
   "id": "0daade40",
   "metadata": {},
   "outputs": [],
   "source": [
    "# DATA AUGMENTATION [THIS IS TO MAKE OUR DATASET LARGER BY FLIPPING APPLYING HORIZONTAL FLIP, ROTATION, ZOOM, AND CONSTRASTING TO THE IMAGE\n",
    "# AND USING THE AUGMENTED IMAGE FOR TESTING]\n",
    "\n",
    "data_augment = tf.keras.Sequential([\n",
    "    layers.experimental.preprocessing.RandomFlip(\"horizontal_and_vertical\"),\n",
    "    layers.experimental.preprocessing.RandomRotation(0.2)   \n",
    "])   \n"
   ]
  },
  {
   "cell_type": "code",
   "execution_count": 12,
   "id": "31fd795b",
   "metadata": {},
   "outputs": [
    {
     "name": "stdout",
     "output_type": "stream",
     "text": [
      "WARNING:tensorflow:Using a while_loop for converting RngReadAndSkip cause there is no registered converter for this op.\n",
      "WARNING:tensorflow:Using a while_loop for converting Bitcast cause there is no registered converter for this op.\n",
      "WARNING:tensorflow:Using a while_loop for converting Bitcast cause there is no registered converter for this op.\n",
      "WARNING:tensorflow:Using a while_loop for converting StatelessRandomUniformV2 cause there is no registered converter for this op.\n",
      "WARNING:tensorflow:Using a while_loop for converting ImageProjectiveTransformV3 cause there is no registered converter for this op.\n",
      "WARNING:tensorflow:Using a while_loop for converting RngReadAndSkip cause there is no registered converter for this op.\n",
      "WARNING:tensorflow:Using a while_loop for converting Bitcast cause there is no registered converter for this op.\n",
      "WARNING:tensorflow:Using a while_loop for converting Bitcast cause there is no registered converter for this op.\n",
      "WARNING:tensorflow:Using a while_loop for converting StatelessRandomUniformV2 cause there is no registered converter for this op.\n",
      "WARNING:tensorflow:Using a while_loop for converting ImageProjectiveTransformV3 cause there is no registered converter for this op.\n"
     ]
    }
   ],
   "source": [
    "# USING THE AUGMENTED IMAGE FOR THE MODEL TRAINING \n",
    "\n",
    "train = train.map(lambda x, y: (data_augment(x, training=True), y)).prefetch(buffer_size=tf.data.AUTOTUNE)"
   ]
  },
  {
   "cell_type": "code",
   "execution_count": 13,
   "id": "40a9dbe6",
   "metadata": {},
   "outputs": [],
   "source": [
    "# PRE-PROCESS RESCALING OF THE INPUTS\n",
    "\n",
    "preprocess_input = tf.keras.applications.resnet50.preprocess_input\n",
    "\n"
   ]
  },
  {
   "cell_type": "code",
   "execution_count": 14,
   "id": "eff0ce00",
   "metadata": {},
   "outputs": [],
   "source": [
    "# INITIALIZING THE PRE-TRAINED MOBILENETV2 MODEL \n",
    "\n",
    "IMG_SHAPE =  (224,224)+ (3,)\n",
    "base_model = tf.keras.applications.ResNet50(input_shape=IMG_SHAPE,\n",
    "                                               include_top=False,\n",
    "                                               weights='imagenet')"
   ]
  },
  {
   "cell_type": "code",
   "execution_count": null,
   "id": "c9ca95be",
   "metadata": {},
   "outputs": [],
   "source": [
    "# CONVERT THE 224x224x3 IMAGE INTO A BLOCK OF FEATURES (224 is the recommended shape of resnet50)\n",
    "\n",
    "image_batch, label_batch = next(iter(train))\n",
    "feature_batch = base_model(image_batch)\n",
    "print(feature_batch.shape)"
   ]
  },
  {
   "cell_type": "code",
   "execution_count": 1,
   "id": "fc97bfed",
   "metadata": {},
   "outputs": [
    {
     "ename": "NameError",
     "evalue": "name 'base_model' is not defined",
     "output_type": "error",
     "traceback": [
      "\u001b[1;31m---------------------------------------------------------------------------\u001b[0m",
      "\u001b[1;31mNameError\u001b[0m                                 Traceback (most recent call last)",
      "Cell \u001b[1;32mIn[1], line 1\u001b[0m\n\u001b[1;32m----> 1\u001b[0m \u001b[43mbase_model\u001b[49m\u001b[38;5;241m.\u001b[39mtrainable \u001b[38;5;241m=\u001b[39m \u001b[38;5;28;01mFalse\u001b[39;00m\n",
      "\u001b[1;31mNameError\u001b[0m: name 'base_model' is not defined"
     ]
    }
   ],
   "source": [
    "base_model.trainable = False"
   ]
  },
  {
   "cell_type": "code",
   "execution_count": 1,
   "id": "eadfeb00",
   "metadata": {},
   "outputs": [
    {
     "ename": "NameError",
     "evalue": "name 'base_model' is not defined",
     "output_type": "error",
     "traceback": [
      "\u001b[1;31m---------------------------------------------------------------------------\u001b[0m",
      "\u001b[1;31mNameError\u001b[0m                                 Traceback (most recent call last)",
      "Cell \u001b[1;32mIn[1], line 1\u001b[0m\n\u001b[1;32m----> 1\u001b[0m \u001b[43mbase_model\u001b[49m\u001b[38;5;241m.\u001b[39msummary()\n",
      "\u001b[1;31mNameError\u001b[0m: name 'base_model' is not defined"
     ]
    }
   ],
   "source": [
    "base_model.summary()"
   ]
  },
  {
   "cell_type": "code",
   "execution_count": 16,
   "id": "393fc331",
   "metadata": {},
   "outputs": [
    {
     "ename": "NameError",
     "evalue": "name 'feature_batch' is not defined",
     "output_type": "error",
     "traceback": [
      "\u001b[1;31m---------------------------------------------------------------------------\u001b[0m",
      "\u001b[1;31mNameError\u001b[0m                                 Traceback (most recent call last)",
      "Cell \u001b[1;32mIn[16], line 4\u001b[0m\n\u001b[0;32m      1\u001b[0m \u001b[38;5;66;03m# ADD THE GLOBALAVERAGEPOOLING2D TO CONVERT THE FEATURES TO A SINGLE 1280-ELEMENT VECTOR PER IMAGE \u001b[39;00m\n\u001b[0;32m      3\u001b[0m global_average_layer \u001b[38;5;241m=\u001b[39m tf\u001b[38;5;241m.\u001b[39mkeras\u001b[38;5;241m.\u001b[39mlayers\u001b[38;5;241m.\u001b[39mGlobalAveragePooling2D()\n\u001b[1;32m----> 4\u001b[0m feature_batch_average \u001b[38;5;241m=\u001b[39m global_average_layer(\u001b[43mfeature_batch\u001b[49m)\n\u001b[0;32m      5\u001b[0m \u001b[38;5;28mprint\u001b[39m(feature_batch_average\u001b[38;5;241m.\u001b[39mshape)\n",
      "\u001b[1;31mNameError\u001b[0m: name 'feature_batch' is not defined"
     ]
    }
   ],
   "source": [
    "# ADD THE GLOBALAVERAGEPOOLING2D TO CONVERT THE FEATURES TO A SINGLE 1280-ELEMENT VECTOR PER IMAGE \n",
    "\n",
    "global_average_layer = tf.keras.layers.GlobalAveragePooling2D()\n",
    "feature_batch_average = global_average_layer(feature_batch)\n",
    "print(feature_batch_average.shape)"
   ]
  },
  {
   "cell_type": "code",
   "execution_count": 17,
   "id": "38c4c41b",
   "metadata": {},
   "outputs": [],
   "source": [
    "# ADD THE SOFTMAX FUNCTION TO GENERATE THE PREDICTIONS\n",
    "\n",
    "prediction_layer = tf.keras.layers.Dense(10, activation=\"softmax\")"
   ]
  },
  {
   "cell_type": "code",
   "execution_count": 18,
   "id": "ef374a7f",
   "metadata": {},
   "outputs": [
    {
     "name": "stdout",
     "output_type": "stream",
     "text": [
      "WARNING:tensorflow:Model was constructed with shape (None, 244, 244, 3) for input KerasTensor(type_spec=TensorSpec(shape=(None, 244, 244, 3), dtype=tf.float32, name='input_1'), name='input_1', description=\"created by layer 'input_1'\"), but it was called on an input with incompatible shape (None, 24, 244, 3).\n"
     ]
    }
   ],
   "source": [
    "# BUILD THE MODEL\n",
    "\n",
    "inputs = tf.keras.Input(shape=(244, 244, 3))\n",
    "x = preprocess_input(inputs)\n",
    "x = base_model(x, training=False)\n",
    "x = global_average_layer(x)\n",
    "outputs = prediction_layer(x)\n",
    "model = tf.keras.Model(inputs, outputs)"
   ]
  },
  {
   "cell_type": "code",
   "execution_count": 19,
   "id": "cebdefac",
   "metadata": {},
   "outputs": [],
   "source": [
    "# MODEL COMPILING \n",
    "\n",
    "base_learning_rate = 0.0001\n",
    "model.compile(optimizer=tf.keras.optimizers.Adam(learning_rate=base_learning_rate),\n",
    "              loss=tf.keras.losses.SparseCategoricalCrossentropy(from_logits=False),\n",
    "              metrics=['accuracy'])"
   ]
  },
  {
   "cell_type": "code",
   "execution_count": null,
   "id": "0d7b1d59",
   "metadata": {},
   "outputs": [],
   "source": [
    "model.summary()"
   ]
  },
  {
   "cell_type": "code",
   "execution_count": null,
   "id": "e038f4b9",
   "metadata": {},
   "outputs": [],
   "source": [
    "# SET THE INITIAL EPOCHS TO 30 \n",
    "\n",
    "initial_epochs = 30\n",
    "\n",
    "loss0, accuracy0 = model.evaluate(val)"
   ]
  },
  {
   "cell_type": "code",
   "execution_count": null,
   "id": "8fee74d3",
   "metadata": {},
   "outputs": [],
   "source": [
    "# CHECK THE INITIAL LOSS AND THE INITIAL ACCURACY OF THE MODEL\n",
    "\n",
    "print(\"Initial loss: {:.2f}\".format(loss0))\n",
    "print(\"Initial accuracy: {:.2f}\".format(accuracy0))"
   ]
  },
  {
   "cell_type": "code",
   "execution_count": null,
   "id": "cb0ee12e",
   "metadata": {},
   "outputs": [],
   "source": [
    "\n",
    "# TRAIN THE MODEL [FIRST PHASE TRAINING]\n",
    "\n",
    "history = model.fit(train,epochs=initial_epochs,validation_data=val, batch_size = 32, verbose =1)"
   ]
  },
  {
   "cell_type": "code",
   "execution_count": null,
   "id": "3660deee",
   "metadata": {},
   "outputs": [],
   "source": [
    "# UN-FREEZE THE TOP LAYER OF THE BASE MODEL\n",
    "\n",
    "base_model.trainable = True"
   ]
  },
  {
   "cell_type": "code",
   "execution_count": null,
   "id": "4c651c11",
   "metadata": {
    "scrolled": true
   },
   "outputs": [],
   "source": [
    "# CHECK THE LAYERS IN THE MODEL\n",
    "\n",
    "print(\"LAYERS IN THE BASE MODEL: \", len(base_model.layers))\n",
    "\n",
    "\n",
    "# FINE TUNING\n",
    "\n",
    "fine_tune_at = 100\n",
    "\n",
    "\n",
    "# FREEZE THE LAYERS BEFORE THE MODEL FINE TUNING\n",
    "\n",
    "for layer in base_model.layers[:fine_tune_at]:\n",
    "    layer.trainable = False"
   ]
  },
  {
   "cell_type": "code",
   "execution_count": null,
   "id": "6ff034c6",
   "metadata": {},
   "outputs": [],
   "source": [
    "# COMPILE THE FINE-TUNED MODEL\n",
    "\n",
    "model.compile(optimizer=tf.keras.optimizers.Adam(learning_rate=base_learning_rate),\n",
    "              loss=tf.keras.losses.SparseCategoricalCrossentropy(from_logits=False),\n",
    "              metrics=['accuracy'])"
   ]
  },
  {
   "cell_type": "code",
   "execution_count": null,
   "id": "8b563c37",
   "metadata": {},
   "outputs": [],
   "source": [
    "model.summary()"
   ]
  },
  {
   "cell_type": "code",
   "execution_count": null,
   "id": "e2248206",
   "metadata": {},
   "outputs": [],
   "source": [
    "len(model.trainable_variables)\n",
    "\n"
   ]
  },
  {
   "cell_type": "code",
   "execution_count": null,
   "id": "dd909f14",
   "metadata": {},
   "outputs": [],
   "source": [
    "# FINAL MODEL TRAINING [SECOND PHASE TRAINING]\n",
    "\n",
    "fine_tune_epochs = 1\n",
    "total_epochs =  initial_epochs + fine_tune_epochs\n",
    "\n",
    "history_fine = model.fit(train,epochs=total_epochs, initial_epoch=history.epoch[-1], validation_data=val,batch_size = 32,verbose =1)"
   ]
  },
  {
   "cell_type": "code",
   "execution_count": null,
   "id": "e53cfebb",
   "metadata": {},
   "outputs": [],
   "source": [
    "# FINAL MODEL EVALUATION\n",
    "\n",
    "scores = model.evaluate(test)\n",
    "\n",
    "print('Test Loss:',scores[0] * 100,'%') \n",
    "print('Test Accuracy:',scores[1] * 100,'%')"
   ]
  },
  {
   "cell_type": "code",
   "execution_count": null,
   "id": "4bd7e110",
   "metadata": {},
   "outputs": [],
   "source": [
    "# MOBILENETV2 ACCURACY PLOT TO CHECK THE LOSS \n",
    "plt.plot(history.history['loss'], '#03080c')\n",
    "plt.plot(history.history['val_loss'], '#336ea0')\n",
    "plt.title('RESNET50 Loss')\n",
    "plt.ylabel('Loss')\n",
    "plt.xlabel('Epoch')\n",
    "plt.legend(['Train','Validation'],loc='upper right')\n",
    "plt.show()"
   ]
  },
  {
   "cell_type": "code",
   "execution_count": null,
   "id": "a69ee2dc",
   "metadata": {},
   "outputs": [],
   "source": [
    "# RESNET50 ACCURACY PLOT TO CHECK THE ACCURACY\n",
    "\n",
    "plt.plot(history.history['accuracy'], '#03080c')\n",
    "plt.plot(history.history['val_accuracy'], '#336ea0')\n",
    "plt.title('RESNET50 Accuracy')\n",
    "plt.ylabel('Accuracy')\n",
    "plt.xlabel('Epoch')\n",
    "plt.legend(['Train','Validation'],loc='lower right')\n",
    "plt.show()"
   ]
  },
  {
   "cell_type": "code",
   "execution_count": null,
   "id": "f9c6d154",
   "metadata": {},
   "outputs": [],
   "source": [
    "# TEST RUN THE MODEL (IT GETS RANDOM IMAGES FROM THE DATASET TEST AND PASS IT THROUGH THE MODEL)\n",
    "\n",
    "for image_batch,label_batch in test.take(1):\n",
    "    first_image = image_batch[0].numpy().astype('uint8')\n",
    "    first_label = label_batch[0].numpy()\n",
    "    batch_prediction = model.predict(image_batch)\n",
    "    \n",
    "    plt.imshow(first_image)\n",
    "    print(\"Actual: \",class_names[first_label])\n",
    "    \n",
    "    print(\"Prediction: \",class_names[np.argmax(batch_prediction[0])])"
   ]
  },
  {
   "cell_type": "code",
   "execution_count": null,
   "id": "f13d5cae",
   "metadata": {},
   "outputs": [],
   "source": [
    "#Now run inference on few sample images\n",
    "\n",
    "plt.figure(figsize=(15, 15))\n",
    "for images, labels in test_ds.take(1):\n",
    "    for i in range(9):\n",
    "        ax = plt.subplot(3, 3, i + 1)\n",
    "        plt.imshow(images[i].numpy().astype(\"uint8\"))\n",
    "        \n",
    "        predicted_class, confidence = predict(model, images[i].numpy())\n",
    "        actual_class = class_names[labels[i]] \n",
    "        \n",
    "        plt.title(f\"Actual: {actual_class},\\n Predicted: {predicted_class}.\\n Confidence: {confidence}%\")\n",
    "        \n",
    "        plt.axis(\"off\")"
   ]
  },
  {
   "cell_type": "code",
   "execution_count": null,
   "id": "a365fe6c",
   "metadata": {},
   "outputs": [],
   "source": [
    "#Saving the Model\n",
    "#We append the model to the list of models as a new version\n",
    "\n",
    "import os\n",
    "directory = \"C:/Users/MARK3/Downloads/Omdena Ethiopia Coffee Diseases\"\n",
    "if not os.path.exists(directory):\n",
    "os.makedirs(directory)\n",
    "model.save(directory + \"/model.h5\")\n",
    "model.save(\"C:/Users/MARK3/Downloads/Omdena Ethiopia Coffee Diseases/model.h5\")"
   ]
  },
  {
   "cell_type": "code",
   "execution_count": null,
   "id": "2751362d",
   "metadata": {},
   "outputs": [],
   "source": []
  },
  {
   "cell_type": "code",
   "execution_count": null,
   "id": "5d5f33fc",
   "metadata": {},
   "outputs": [],
   "source": []
  },
  {
   "cell_type": "code",
   "execution_count": null,
   "id": "3804ef1a",
   "metadata": {},
   "outputs": [],
   "source": []
  },
  {
   "cell_type": "code",
   "execution_count": null,
   "id": "e21a7f75",
   "metadata": {},
   "outputs": [],
   "source": []
  },
  {
   "cell_type": "code",
   "execution_count": null,
   "id": "094cba16",
   "metadata": {},
   "outputs": [],
   "source": []
  },
  {
   "cell_type": "code",
   "execution_count": null,
   "id": "5cae2786",
   "metadata": {},
   "outputs": [],
   "source": []
  },
  {
   "cell_type": "code",
   "execution_count": null,
   "id": "d7924276",
   "metadata": {},
   "outputs": [],
   "source": []
  },
  {
   "cell_type": "code",
   "execution_count": null,
   "id": "8e6c86dc",
   "metadata": {},
   "outputs": [],
   "source": []
  },
  {
   "cell_type": "code",
   "execution_count": null,
   "id": "bccd4ce8",
   "metadata": {},
   "outputs": [],
   "source": []
  },
  {
   "cell_type": "code",
   "execution_count": null,
   "id": "071f48e6",
   "metadata": {},
   "outputs": [],
   "source": []
  },
  {
   "cell_type": "code",
   "execution_count": null,
   "id": "1ca8e885",
   "metadata": {},
   "outputs": [],
   "source": []
  },
  {
   "cell_type": "code",
   "execution_count": null,
   "id": "658b344b",
   "metadata": {},
   "outputs": [],
   "source": []
  }
 ],
 "metadata": {
  "kernelspec": {
   "display_name": "Python 3 (ipykernel)",
   "language": "python",
   "name": "python3"
  },
  "language_info": {
   "codemirror_mode": {
    "name": "ipython",
    "version": 3
   },
   "file_extension": ".py",
   "mimetype": "text/x-python",
   "name": "python",
   "nbconvert_exporter": "python",
   "pygments_lexer": "ipython3",
   "version": "3.10.9"
  }
 },
 "nbformat": 4,
 "nbformat_minor": 5
}
